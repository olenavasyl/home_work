{
 "cells": [
  {
   "cell_type": "code",
   "execution_count": 1,
   "id": "c4541b28",
   "metadata": {},
   "outputs": [
    {
     "name": "stdout",
     "output_type": "stream",
     "text": [
      "                                  Film    Genre            Lead Studio  \\\n",
      "0           Zack and Miri Make a Porno  Romance  The Weinstein Company   \n",
      "1                      Youth in Revolt   Comedy  The Weinstein Company   \n",
      "2   You Will Meet a Tall Dark Stranger   Comedy            Independent   \n",
      "3                         When in Rome   Comedy                 Disney   \n",
      "4                What Happens in Vegas   Comedy                    Fox   \n",
      "..                                 ...      ...                    ...   \n",
      "72                 Across the Universe  romance            Independent   \n",
      "73                       A Serious Man    Drama              Universal   \n",
      "74                  A Dangerous Method    Drama            Independent   \n",
      "75                          27 Dresses   Comedy                    Fox   \n",
      "76                (500) Days of Summer   comedy                    Fox   \n",
      "\n",
      "    Audience score %  Profitability  Rotten Tomatoes % Worldwide Gross  Year  \n",
      "0                 70       1.747542                 64         $41.94   2008  \n",
      "1                 52       1.090000                 68         $19.62   2010  \n",
      "2                 35       1.211818                 43         $26.66   2010  \n",
      "3                 44       0.000000                 15         $43.04   2010  \n",
      "4                 72       6.267647                 28        $219.37   2008  \n",
      "..               ...            ...                ...             ...   ...  \n",
      "72                84       0.652603                 54         $29.37   2007  \n",
      "73                64       4.382857                 89         $30.68   2009  \n",
      "74                89       0.448645                 79          $8.97   2011  \n",
      "75                71       5.343622                 40        $160.31   2008  \n",
      "76                81       8.096000                 87         $60.72   2009  \n",
      "\n",
      "[77 rows x 8 columns]\n",
      "<class 'pandas.core.frame.DataFrame'>\n",
      "RangeIndex: 77 entries, 0 to 76\n",
      "Data columns (total 8 columns):\n",
      " #   Column             Non-Null Count  Dtype  \n",
      "---  ------             --------------  -----  \n",
      " 0   Film               77 non-null     object \n",
      " 1   Genre              77 non-null     object \n",
      " 2   Lead Studio        77 non-null     object \n",
      " 3   Audience score %   77 non-null     int64  \n",
      " 4   Profitability      77 non-null     float64\n",
      " 5   Rotten Tomatoes %  77 non-null     int64  \n",
      " 6   Worldwide Gross    77 non-null     object \n",
      " 7   Year               77 non-null     int64  \n",
      "dtypes: float64(1), int64(3), object(4)\n",
      "memory usage: 4.9+ KB\n"
     ]
    },
    {
     "data": {
      "text/plain": [
       "Film                  object\n",
       "Genre                 object\n",
       "Lead Studio           object\n",
       "Audience score %       int64\n",
       "Profitability        float64\n",
       "Rotten Tomatoes %      int64\n",
       "Worldwide Gross       object\n",
       "Year                   int64\n",
       "dtype: object"
      ]
     },
     "execution_count": 1,
     "metadata": {},
     "output_type": "execute_result"
    }
   ],
   "source": [
    "#2. Загрузите набор данных фильмов в pandas\n",
    "import pandas as pd\n",
    "df = pd.read_csv(r\"C:\\Users\\Professional\\Desktop\\Dan IT\\P\\movies.csv\")\n",
    "print(df)\n",
    "#3. Перечислите все столбцы набора данных и изучите их типы. Изучите статистику\n",
    "#по различным областям. Опишите, какие данные у нас есть\n",
    "df.head(10)\n",
    "df.tail(10)\n",
    "df.describe()\n",
    "df.shape\n",
    "df.info()\n",
    "df.columns\n",
    "df.index\n",
    "df.isnull()\n",
    "df.dtypes"
   ]
  },
  {
   "cell_type": "markdown",
   "id": "6b0f6d15",
   "metadata": {},
   "source": [
    "<b>Dataset movies consist of 77 rows and 5 columns. Type for column 'Worldwide Gross' is not correct,\\nbetter to use float64. User have to know that info provided for this column in Mio or Thsd USD. Now this info is missing\\nand calculations for this column cannot be implemented, becouse not correct type. Rows or columns don't contains empty values.\\nDataset has 3 dublicates. 3 films has Profitability = 0, that is strange.\\nFor correct analysis, the previously listed errors have been corrected </b>"
   ]
  },
  {
   "cell_type": "code",
   "execution_count": 2,
   "id": "65b636a8",
   "metadata": {},
   "outputs": [
    {
     "data": {
      "text/plain": [
       "Film                  object\n",
       "Genre                 object\n",
       "Lead Studio           object\n",
       "Audience score %       int64\n",
       "Profitability        float64\n",
       "Rotten Tomatoes %      int64\n",
       "Worldwide Gross      float64\n",
       "Year                   int64\n",
       "dtype: object"
      ]
     },
     "execution_count": 2,
     "metadata": {},
     "output_type": "execute_result"
    }
   ],
   "source": [
    "#Функція зміни типу даних для Worldwide Gross\n",
    "def cor_val(val):\n",
    "    new_val = val.replace(',','').replace('$', '')\n",
    "    return float(new_val)\n",
    "\n",
    "df['Worldwide Gross'].apply(cor_val)\n",
    "\n",
    "df['Worldwide Gross'] = df['Worldwide Gross'].apply(cor_val)\n",
    "df.dtypes"
   ]
  },
  {
   "cell_type": "code",
   "execution_count": 3,
   "id": "ebea1ba6",
   "metadata": {},
   "outputs": [
    {
     "name": "stdout",
     "output_type": "stream",
     "text": [
      "                 Film      Genre Lead Studio  Audience score %  Profitability  \\\n",
      "46         Mamma Mia!     Comedy   Universal                76       9.234454   \n",
      "65  Gnomeo and Juliet  Animation      Disney                52       5.387972   \n",
      "\n",
      "    Rotten Tomatoes %  Worldwide Gross  Year  \n",
      "46                 53           609.47  2008  \n",
      "65                 56           193.97  2011  \n",
      "                  Film      Genre   Lead Studio  Audience score %  \\\n",
      "26  Sex and the City 2     Comedy  Warner Bros.                49   \n",
      "46          Mamma Mia!     Comedy     Universal                76   \n",
      "65   Gnomeo and Juliet  Animation        Disney                52   \n",
      "\n",
      "    Profitability  Rotten Tomatoes %  Worldwide Gross  Year  \n",
      "26       2.883500                 15           288.35  2010  \n",
      "46       9.234454                 53           609.47  2008  \n",
      "65       5.387972                 56           193.97  2011  \n",
      "count of films 74\n"
     ]
    }
   ],
   "source": [
    "#4. Сколько всего фильмов в наборе данных?\n",
    "\n",
    "len(df)#кількість рядків не відповідає кількості фільмів\n",
    "\n",
    "duplicateRows = df[df.duplicated ()]#перевірка на дублікати. Знайдено 2 дублікати\n",
    "print(duplicateRows)\n",
    "\n",
    "df.duplicated().sum()#ще варіант перевірки на дублі\n",
    "\n",
    "duplicateRows1 = df[df.duplicated(['Genre', 'Lead Studio','Audience score %','Profitability','Rotten Tomatoes %','Worldwide Gross','Year'])]\n",
    "print(duplicateRows1)#додаткова перевірка на дублікати. Знайдено 3 дублікати\n",
    "\n",
    "count_of_films=len(df)- len(duplicateRows1) #Отже в масиві інформація про 74 фільмів\n",
    "print(f'count of films',count_of_films)\n"
   ]
  },
  {
   "cell_type": "code",
   "execution_count": 4,
   "id": "afa94144",
   "metadata": {},
   "outputs": [
    {
     "name": "stdout",
     "output_type": "stream",
     "text": [
      "                                  Film    Genre            Lead Studio  \\\n",
      "0           Zack and Miri Make a Porno  Romance  The Weinstein Company   \n",
      "1                      Youth in Revolt   Comedy  The Weinstein Company   \n",
      "2   You Will Meet a Tall Dark Stranger   Comedy            Independent   \n",
      "3                         When in Rome   Comedy                 Disney   \n",
      "4                What Happens in Vegas   Comedy                    Fox   \n",
      "..                                 ...      ...                    ...   \n",
      "72                 Across the Universe  romance            Independent   \n",
      "73                       A Serious Man    Drama              Universal   \n",
      "74                  A Dangerous Method    Drama            Independent   \n",
      "75                          27 Dresses   Comedy                    Fox   \n",
      "76                (500) Days of Summer   comedy                    Fox   \n",
      "\n",
      "    Audience score %  Profitability  Rotten Tomatoes %  Worldwide Gross  Year  \n",
      "0                 70       1.747542                 64            41.94  2008  \n",
      "1                 52       1.090000                 68            19.62  2010  \n",
      "2                 35       1.211818                 43            26.66  2010  \n",
      "3                 44       0.000000                 15            43.04  2010  \n",
      "4                 72       6.267647                 28           219.37  2008  \n",
      "..               ...            ...                ...              ...   ...  \n",
      "72                84       0.652603                 54            29.37  2007  \n",
      "73                64       4.382857                 89            30.68  2009  \n",
      "74                89       0.448645                 79             8.97  2011  \n",
      "75                71       5.343622                 40           160.31  2008  \n",
      "76                81       8.096000                 87            60.72  2009  \n",
      "\n",
      "[74 rows x 8 columns]\n"
     ]
    },
    {
     "data": {
      "text/plain": [
       "74"
      ]
     },
     "execution_count": 4,
     "metadata": {},
     "output_type": "execute_result"
    }
   ],
   "source": [
    "\n",
    "df_correct =df.drop_duplicates(subset=['Genre', 'Lead Studio','Audience score %',\n",
    "                           'Profitability','Rotten Tomatoes %','Worldwide Gross','Year'], keep='last') #оновлюємо масив без дублікатів\n",
    "\n",
    "print(df_correct)\n",
    "len(df_correct)"
   ]
  },
  {
   "cell_type": "code",
   "execution_count": 47,
   "id": "443eed3c",
   "metadata": {},
   "outputs": [
    {
     "name": "stdout",
     "output_type": "stream",
     "text": [
      "2008    19\n",
      "2010    19\n",
      "2011    13\n",
      "2009    12\n",
      "2007    11\n",
      "Name: Year, dtype: int64\n",
      "                  Film    Genre  Lead Studio  Audience score %  Profitability  \\\n",
      "3         When in Rome   Comedy       Disney                44            0.0   \n",
      "33  Our Family Wedding   Comedy  Independent                49            0.0   \n",
      "57           Jane Eyre  Romance    Universal                77            0.0   \n",
      "\n",
      "    Rotten Tomatoes % Worldwide Gross  Year  \n",
      "3                  15         $43.04   2010  \n",
      "33                 14         $21.37   2010  \n",
      "57                 85         $30.15   2011  \n",
      "         Film  Genre  Lead Studio  Audience score %  Profitability  \\\n",
      "68  Fireproof  Drama  Independent                51         66.934   \n",
      "\n",
      "    Rotten Tomatoes % Worldwide Gross  Year  \n",
      "68                 40         $33.47   2008  \n",
      "         Film  Genre  Lead Studio  Audience score %  Profitability  \\\n",
      "68  Fireproof  Drama  Independent                51         66.934   \n",
      "\n",
      "    Rotten Tomatoes % Worldwide Gross  Year  \n",
      "68                 40         $33.47   2008  \n",
      "                  Film    Genre  Lead Studio  Audience score %  Profitability  \\\n",
      "3         When in Rome   Comedy       Disney                44            0.0   \n",
      "33  Our Family Wedding   Comedy  Independent                49            0.0   \n",
      "57           Jane Eyre  Romance    Universal                77            0.0   \n",
      "\n",
      "    Rotten Tomatoes % Worldwide Gross  Year  \n",
      "3                  15         $43.04   2010  \n",
      "33                 14         $21.37   2010  \n",
      "57                 85         $30.15   2011  \n"
     ]
    }
   ],
   "source": [
    "#5Сколько фильмов содержится в наборе данных за каждый год?\n",
    "print(df_correct['Year'].value_counts())\n",
    "\n",
    "print(df_correct[df_correct.Profitability == df_correct.Profitability.min()])\n",
    "print(df_correct[df_correct.Profitability == df_correct.Profitability.max()])\n",
    "\n",
    "\n",
    "df2=df_correct.query('Profitability == Profitability.max()')\n",
    "print(df2)\n",
    "df2=df_correct.query('Profitability == Profitability.min()')\n",
    "print(df2)\n"
   ]
  },
  {
   "cell_type": "code",
   "execution_count": 48,
   "id": "332577da",
   "metadata": {},
   "outputs": [
    {
     "data": {
      "text/html": [
       "<div>\n",
       "<style scoped>\n",
       "    .dataframe tbody tr th:only-of-type {\n",
       "        vertical-align: middle;\n",
       "    }\n",
       "\n",
       "    .dataframe tbody tr th {\n",
       "        vertical-align: top;\n",
       "    }\n",
       "\n",
       "    .dataframe thead th {\n",
       "        text-align: right;\n",
       "    }\n",
       "</style>\n",
       "<table border=\"1\" class=\"dataframe\">\n",
       "  <thead>\n",
       "    <tr style=\"text-align: right;\">\n",
       "      <th></th>\n",
       "      <th>Film</th>\n",
       "      <th>Genre</th>\n",
       "      <th>Lead Studio</th>\n",
       "      <th>Audience score %</th>\n",
       "      <th>Profitability</th>\n",
       "      <th>Rotten Tomatoes %</th>\n",
       "      <th>Worldwide Gross</th>\n",
       "      <th>Year</th>\n",
       "    </tr>\n",
       "  </thead>\n",
       "  <tbody>\n",
       "    <tr>\n",
       "      <th>8</th>\n",
       "      <td>Waiting For Forever</td>\n",
       "      <td>Romance</td>\n",
       "      <td>Independent</td>\n",
       "      <td>53</td>\n",
       "      <td>0.005</td>\n",
       "      <td>6</td>\n",
       "      <td>$0.03</td>\n",
       "      <td>2011</td>\n",
       "    </tr>\n",
       "  </tbody>\n",
       "</table>\n",
       "</div>"
      ],
      "text/plain": [
       "                  Film    Genre  Lead Studio  Audience score %  Profitability  \\\n",
       "8  Waiting For Forever  Romance  Independent                53          0.005   \n",
       "\n",
       "   Rotten Tomatoes % Worldwide Gross  Year  \n",
       "8                  6          $0.03   2011  "
      ]
     },
     "execution_count": 48,
     "metadata": {},
     "output_type": "execute_result"
    }
   ],
   "source": [
    "#Вважаю, що Profitability не може бути рівна 0, більш всього, що є помилка в данних, \n",
    "#тому додатково шукаю мінімальне значення, але яке не дорівнює 0 \n",
    "df1=df_correct[df_correct['Profitability']!=0]\n",
    "df1[df1['Profitability']==df1['Profitability'].min()]\n"
   ]
  },
  {
   "cell_type": "code",
   "execution_count": 5,
   "id": "6a603b17",
   "metadata": {},
   "outputs": [
    {
     "name": "stdout",
     "output_type": "stream",
     "text": [
      "                                  Film    Genre            Lead Studio  \\\n",
      "0           Zack and Miri Make a Porno  Romance  The Weinstein Company   \n",
      "1                      Youth in Revolt   Comedy  The Weinstein Company   \n",
      "2   You Will Meet a Tall Dark Stranger   Comedy            Independent   \n",
      "3                         When in Rome   Comedy                 Disney   \n",
      "4                What Happens in Vegas   Comedy                    Fox   \n",
      "..                                 ...      ...                    ...   \n",
      "72                 Across the Universe  Romance            Independent   \n",
      "73                       A Serious Man    Drama              Universal   \n",
      "74                  A Dangerous Method    Drama            Independent   \n",
      "75                          27 Dresses   Comedy                    Fox   \n",
      "76                (500) Days of Summer   Comedy                    Fox   \n",
      "\n",
      "    Audience score %  Profitability  Rotten Tomatoes %  Worldwide Gross  Year  \n",
      "0                 70       1.747542                 64            41.94  2008  \n",
      "1                 52       1.090000                 68            19.62  2010  \n",
      "2                 35       1.211818                 43            26.66  2010  \n",
      "3                 44       0.000000                 15            43.04  2010  \n",
      "4                 72       6.267647                 28           219.37  2008  \n",
      "..               ...            ...                ...              ...   ...  \n",
      "72                84       0.652603                 54            29.37  2007  \n",
      "73                64       4.382857                 89            30.68  2009  \n",
      "74                89       0.448645                 79             8.97  2011  \n",
      "75                71       5.343622                 40           160.31  2008  \n",
      "76                81       8.096000                 87            60.72  2009  \n",
      "\n",
      "[74 rows x 8 columns]\n"
     ]
    },
    {
     "name": "stderr",
     "output_type": "stream",
     "text": [
      "C:\\Users\\Professional\\AppData\\Local\\Temp\\ipykernel_3264\\2872560005.py:4: SettingWithCopyWarning: \n",
      "A value is trying to be set on a copy of a slice from a DataFrame.\n",
      "Try using .loc[row_indexer,col_indexer] = value instead\n",
      "\n",
      "See the caveats in the documentation: https://pandas.pydata.org/pandas-docs/stable/user_guide/indexing.html#returning-a-view-versus-a-copy\n",
      "  df_correct['Genre'] = df_correct['Genre'].replace(['Comdy', 'comedy'], 'Comedy')#оновила на коректні дані\n",
      "C:\\Users\\Professional\\AppData\\Local\\Temp\\ipykernel_3264\\2872560005.py:5: SettingWithCopyWarning: \n",
      "A value is trying to be set on a copy of a slice from a DataFrame.\n",
      "Try using .loc[row_indexer,col_indexer] = value instead\n",
      "\n",
      "See the caveats in the documentation: https://pandas.pydata.org/pandas-docs/stable/user_guide/indexing.html#returning-a-view-versus-a-copy\n",
      "  df_correct['Genre'] = df_correct['Genre'].replace(['Romence', 'romance'], 'Romance')\n"
     ]
    }
   ],
   "source": [
    "#7 Значение «Жанр» временами кажется непоследовательным; попробуйте найти эти несоответствия и исправить их\n",
    "df_correct['Genre'].sort_values().unique() #для кращого знаходження невідповідності, відсортувала по алфавіту\n",
    "\n",
    "df_correct['Genre'] = df_correct['Genre'].replace(['Comdy', 'comedy'], 'Comedy')#оновила на коректні дані\n",
    "df_correct['Genre'] = df_correct['Genre'].replace(['Romence', 'romance'], 'Romance')\n",
    "\n",
    "print(df_correct)\n"
   ]
  },
  {
   "cell_type": "code",
   "execution_count": 6,
   "id": "8b09d0b0",
   "metadata": {},
   "outputs": [
    {
     "name": "stdout",
     "output_type": "stream",
     "text": [
      "                                   Film  Year            Lead Studio\n",
      "6                                WALL-E  2008                 Disney\n",
      "74                   A Dangerous Method  2011            Independent\n",
      "22                              Tangled  2010                 Disney\n",
      "39                 My Week with Marilyn  2011  The Weinstein Company\n",
      "43                    Midnight in Paris  2011                   Sony\n",
      "72                  Across the Universe  2007            Independent\n",
      "54                           Knocked Up  2007              Universal\n",
      "12                             Twilight  2008                 Summit\n",
      "31                      P.S. I Love You  2007            Independent\n",
      "20  The Curious Case of Benjamin Button  2008           Warner Bros.\n",
      "                                   Film  Year   Lead Studio\n",
      "2    You Will Meet a Tall Dark Stranger  2010   Independent\n",
      "48                         Love Happens  2009     Universal\n",
      "18                   The Heartbreak Kid  2007     Paramount\n",
      "3                          When in Rome  2010        Disney\n",
      "55                              Killers  2010     Lionsgate\n",
      "10  Tyler Perry's Why Did I get Married  2007   Independent\n",
      "17               The Invention of Lying  2009  Warner Bros.\n",
      "21                     The Back-up Plan  2010           CBS\n",
      "32                   Over Her Dead Body  2008      New Line\n",
      "66           Ghosts of Girlfriends Past  2009  Warner Bros.\n"
     ]
    }
   ],
   "source": [
    "#8. Сохраните (в новый файл CSV) 10 лучших комедий по количеству зрителей; покажите только название фильма, год и студию.\n",
    "#1 variant whith 2 files\n",
    "top10=df_correct.nlargest(10, ['Audience score %'])\n",
    "top10_max = top10.iloc[:,[0,7,2]]\n",
    "print(top10_max)\n",
    "\n",
    "top_min10 =df_correct.nsmallest(10, ['Audience score %'])\n",
    "top10_min = top_min10.iloc[:,[0,7,2]]\n",
    "print(top10_min)\n",
    "\n",
    "top10_min.to_csv(r'C:\\\\Users\\Professional\\Desktop\\Dan IT\\P\\topmin.csv', index= False )\n",
    "top10_max.to_csv(r'C:\\\\Users\\Professional\\Desktop\\Dan IT\\P\\topmax.csv', index= False )\n",
    "\n",
    "\n",
    "\n"
   ]
  },
  {
   "cell_type": "code",
   "execution_count": 76,
   "id": "1a7d58ec",
   "metadata": {},
   "outputs": [
    {
     "name": "stdout",
     "output_type": "stream",
     "text": [
      "                                   Film  Year            Lead Studio    F\n",
      "6                                WALL-E  2008                 Disney  max\n",
      "74                   A Dangerous Method  2011            Independent  max\n",
      "22                              Tangled  2010                 Disney  max\n",
      "39                 My Week with Marilyn  2011  The Weinstein Company  max\n",
      "43                    Midnight in Paris  2011                   Sony  max\n",
      "72                  Across the Universe  2007            Independent  max\n",
      "54                           Knocked Up  2007              Universal  max\n",
      "12                             Twilight  2008                 Summit  max\n",
      "31                      P.S. I Love You  2007            Independent  max\n",
      "20  The Curious Case of Benjamin Button  2008           Warner Bros.  max\n",
      "                                   Film  Year   Lead Studio    F\n",
      "2    You Will Meet a Tall Dark Stranger  2010   Independent  min\n",
      "48                         Love Happens  2009     Universal  min\n",
      "18                   The Heartbreak Kid  2007     Paramount  min\n",
      "3                          When in Rome  2010        Disney  min\n",
      "55                              Killers  2010     Lionsgate  min\n",
      "10  Tyler Perry's Why Did I get Married  2007   Independent  min\n",
      "17               The Invention of Lying  2009  Warner Bros.  min\n",
      "21                     The Back-up Plan  2010           CBS  min\n",
      "32                   Over Her Dead Body  2008      New Line  min\n",
      "66           Ghosts of Girlfriends Past  2009  Warner Bros.  min\n"
     ]
    }
   ],
   "source": [
    "#2 variant whith 1 file\n",
    "top10=df_correct.nlargest(10, ['Audience score %'])\n",
    "top10_max = top10.iloc[:,[0,7,2]]\n",
    "t_max = top10_max.assign(F = 'max')\n",
    "print(t_max)\n",
    "\n",
    "top_min10 =df_correct.nsmallest(10, ['Audience score %'])\n",
    "top10_min = top_min10.iloc[:,[0,7,2]]\n",
    "t_min = top10_min.assign(F = 'min')\n",
    "print(t_min)\n",
    "\n",
    "t_max.to_csv(r'C:\\\\Users\\Professional\\Desktop\\Dan IT\\P\\fulltop.csv', index=False)\n",
    "t_min.to_csv(r'C:\\\\Users\\Professional\\Desktop\\Dan IT\\P\\fulltop.csv', index=False, mode=\"a\")\n"
   ]
  },
  {
   "cell_type": "code",
   "execution_count": null,
   "id": "d90c4726",
   "metadata": {},
   "outputs": [],
   "source": []
  }
 ],
 "metadata": {
  "kernelspec": {
   "display_name": "Python 3 (ipykernel)",
   "language": "python",
   "name": "python3"
  },
  "language_info": {
   "codemirror_mode": {
    "name": "ipython",
    "version": 3
   },
   "file_extension": ".py",
   "mimetype": "text/x-python",
   "name": "python",
   "nbconvert_exporter": "python",
   "pygments_lexer": "ipython3",
   "version": "3.10.9"
  }
 },
 "nbformat": 4,
 "nbformat_minor": 5
}
